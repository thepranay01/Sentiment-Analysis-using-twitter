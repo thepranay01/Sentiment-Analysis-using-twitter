{
 "cells": [
  {
   "cell_type": "code",
   "execution_count": 1,
   "id": "042d461d",
   "metadata": {},
   "outputs": [],
   "source": [
    "import selenium\n",
    "from selenium import webdriver\n",
    "from selenium.webdriver.common.by import By\n",
    "from selenium.webdriver.common.keys import Keys\n",
    "from time import sleep\n",
    "import getpass\n",
    "\n",
    "from selenium import webdriver\n",
    "from selenium.webdriver.chrome.service import Service\n",
    "from webdriver_manager.chrome import ChromeDriverManager\n"
   ]
  },
  {
   "cell_type": "code",
   "execution_count": 2,
   "id": "896b21ad",
   "metadata": {},
   "outputs": [
    {
     "name": "stdout",
     "output_type": "stream",
     "text": [
      "········\n"
     ]
    }
   ],
   "source": [
    "my_user = \"Sentime29177252\"\n",
    "my_pass = getpass.getpass()"
   ]
  },
  {
   "cell_type": "code",
   "execution_count": 3,
   "id": "605ad499",
   "metadata": {},
   "outputs": [],
   "source": [
    "search_item =\"Cricket Match India\""
   ]
  },
  {
   "cell_type": "code",
   "execution_count": 4,
   "id": "c830c155",
   "metadata": {},
   "outputs": [],
   "source": [
    "PATH = \"C:\\Program Files\\Drivers\\chromedriver.exe\"\n",
    "driver = webdriver.Chrome(service=Service(ChromeDriverManager().install()))\n",
    "#driver.get(\"https://www.google.com\")\n",
    "#driver = webdriver.Chrome(PATH)\n",
    "driver.get(\"https://twitter.com/i/flow/login\")\n",
    "# driver.maximize_window()\n",
    "sleep(3)"
   ]
  },
  {
   "cell_type": "code",
   "execution_count": 5,
   "id": "74308233",
   "metadata": {},
   "outputs": [],
   "source": [
    "user_id= driver.find_element(By.XPATH,\"//input[@type='text']\")\n",
    "user_id.send_keys(my_user)\n",
    "user_id.send_keys(Keys.ENTER)"
   ]
  },
  {
   "cell_type": "code",
   "execution_count": 6,
   "id": "600ee88c",
   "metadata": {},
   "outputs": [],
   "source": [
    "password = driver.find_element(By.XPATH,\"//input[@type='password']\")\n",
    "password.send_keys(my_pass)\n",
    "password.send_keys(Keys.ENTER)"
   ]
  },
  {
   "cell_type": "code",
   "execution_count": 7,
   "id": "c63dd570",
   "metadata": {},
   "outputs": [],
   "source": [
    "search_box = driver.find_element(By.XPATH,\"//input[@data-testid='SearchBox_Search_Input']\")\n",
    "search_box.send_keys(search_item)\n",
    "search_box.send_keys(Keys.ENTER)"
   ]
  },
  {
   "cell_type": "code",
   "execution_count": 8,
   "id": "b2698e76",
   "metadata": {},
   "outputs": [],
   "source": [
    "all_tweets = set()\n",
    "\n",
    "\n",
    "tweets = driver.find_elements(By.XPATH,\"//div[@data-testid='tweetText']\")\n",
    "while True:\n",
    "    for tweet in tweets:\n",
    "        all_tweets.add(tweet.text)\n",
    "    driver.execute_script('window.scrollTo(0, document.body.scrollHeight);')\n",
    "    sleep(3)\n",
    "    tweets = driver.find_elements(By.XPATH,\"//div[@data-testid='tweetText']\")\n",
    "    if len(all_tweets)>50:\n",
    "        break"
   ]
  },
  {
   "cell_type": "code",
   "execution_count": 9,
   "id": "1ef91034",
   "metadata": {},
   "outputs": [
    {
     "data": {
      "text/plain": [
       "'Cricket fans! #India & #Netherlands ke beech kaun jeetag aaj ka match! Predict karo! Only on Nissan’s Cricket Ka Blockbuster 2023! \\n@Nissan_India\\n \\n\\n#CKB #CKB2023 #Nissan #cricket'"
      ]
     },
     "execution_count": 9,
     "metadata": {},
     "output_type": "execute_result"
    }
   ],
   "source": [
    "all_tweets = list(all_tweets)\n",
    "all_tweets[0]"
   ]
  },
  {
   "cell_type": "code",
   "execution_count": 10,
   "id": "881c4a0d",
   "metadata": {},
   "outputs": [
    {
     "name": "stderr",
     "output_type": "stream",
     "text": [
      "[nltk_data] Downloading package punkt to C:\\Users\\Pranay\n",
      "[nltk_data]     singh\\AppData\\Roaming\\nltk_data...\n",
      "[nltk_data]   Package punkt is already up-to-date!\n",
      "[nltk_data] Downloading package stopwords to C:\\Users\\Pranay\n",
      "[nltk_data]     singh\\AppData\\Roaming\\nltk_data...\n",
      "[nltk_data]   Package stopwords is already up-to-date!\n"
     ]
    }
   ],
   "source": [
    "import pandas as pd\n",
    "pd.options.display.max_colwidth = 1000\n",
    "import re\n",
    "import nltk\n",
    "nltk.download('punkt')\n",
    "nltk.download('stopwords')\n",
    "\n",
    "from nltk.corpus import stopwords\n",
    "from nltk.tokenize import word_tokenize"
   ]
  },
  {
   "cell_type": "code",
   "execution_count": 11,
   "id": "c2b3c49a",
   "metadata": {},
   "outputs": [
    {
     "name": "stdout",
     "output_type": "stream",
     "text": [
      "['i', 'me', 'my', 'myself', 'we', 'our', 'ours', 'ourselves', 'you', \"you're\", \"you've\", \"you'll\", \"you'd\", 'your', 'yours', 'yourself', 'yourselves', 'he', 'him', 'his', 'himself', 'she', \"she's\", 'her', 'hers', 'herself', 'it', \"it's\", 'its', 'itself', 'they', 'them', 'their', 'theirs', 'themselves', 'what', 'which', 'who', 'whom', 'this', 'that', \"that'll\", 'these', 'those', 'am', 'is', 'are', 'was', 'were', 'be', 'been', 'being', 'have', 'has', 'had', 'having', 'do', 'does', 'did', 'doing', 'a', 'an', 'the', 'and', 'but', 'if', 'or', 'because', 'as', 'until', 'while', 'of', 'at', 'by', 'for', 'with', 'about', 'against', 'between', 'into', 'through', 'during', 'before', 'after', 'above', 'below', 'to', 'from', 'up', 'down', 'in', 'out', 'on', 'off', 'over', 'under', 'again', 'further', 'then', 'once', 'here', 'there', 'when', 'where', 'why', 'how', 'all', 'any', 'both', 'each', 'few', 'more', 'most', 'other', 'some', 'such', 'no', 'nor', 'not', 'only', 'own', 'same', 'so', 'than', 'too', 'very', 's', 't', 'can', 'will', 'just', 'don', \"don't\", 'should', \"should've\", 'now', 'd', 'll', 'm', 'o', 're', 've', 'y', 'ain', 'aren', \"aren't\", 'couldn', \"couldn't\", 'didn', \"didn't\", 'doesn', \"doesn't\", 'hadn', \"hadn't\", 'hasn', \"hasn't\", 'haven', \"haven't\", 'isn', \"isn't\", 'ma', 'mightn', \"mightn't\", 'mustn', \"mustn't\", 'needn', \"needn't\", 'shan', \"shan't\", 'shouldn', \"shouldn't\", 'wasn', \"wasn't\", 'weren', \"weren't\", 'won', \"won't\", 'wouldn', \"wouldn't\"]\n"
     ]
    }
   ],
   "source": [
    "stp_words = stopwords.words('english')\n",
    "print(stp_words)"
   ]
  },
  {
   "cell_type": "code",
   "execution_count": 12,
   "id": "cd7382fe",
   "metadata": {},
   "outputs": [
    {
     "data": {
      "text/html": [
       "<div>\n",
       "<style scoped>\n",
       "    .dataframe tbody tr th:only-of-type {\n",
       "        vertical-align: middle;\n",
       "    }\n",
       "\n",
       "    .dataframe tbody tr th {\n",
       "        vertical-align: top;\n",
       "    }\n",
       "\n",
       "    .dataframe thead th {\n",
       "        text-align: right;\n",
       "    }\n",
       "</style>\n",
       "<table border=\"1\" class=\"dataframe\">\n",
       "  <thead>\n",
       "    <tr style=\"text-align: right;\">\n",
       "      <th></th>\n",
       "      <th>tweets</th>\n",
       "    </tr>\n",
       "  </thead>\n",
       "  <tbody>\n",
       "    <tr>\n",
       "      <th>0</th>\n",
       "      <td>Cricket fans! #India &amp; #Netherlands ke beech kaun jeetag aaj ka match! Predict karo! Only on Nissan’s Cricket Ka Blockbuster 2023! \\n@Nissan_India\\n \\n\\n#CKB #CKB2023 #Nissan #cricket</td>\n",
       "    </tr>\n",
       "    <tr>\n",
       "      <th>1</th>\n",
       "      <td>VIDEO | \"We knew India would register a victory against New Zealand in today's match. Even in the final of World Cup match, we expect a similar winning performance from Team India,\" says a cricket fan in Mumbai as India qualify for the cricket World Cup final beating New Zealand.…</td>\n",
       "    </tr>\n",
       "    <tr>\n",
       "      <th>2</th>\n",
       "      <td>Is Modi ji coming to watch this match ? Has the current PM ever attended a India Hockey / Football match ?? His involvement can help promote these sports. Cricket is big in India and everyone including film stars  and politicians milk it well . #CWC23Final #INDQAT #FIFAWCQ2026</td>\n",
       "    </tr>\n",
       "    <tr>\n",
       "      <th>3</th>\n",
       "      <td>Mohammed Shami once said “I will rather die than betray my country” \\n India into finals \\nTeam Man Shami  of Indian cricket Team\\n\\nMan of the match (POTM) acc to me\\n\\n#INDvsNZ #IndiaVsNewZealand</td>\n",
       "    </tr>\n",
       "    <tr>\n",
       "      <th>4</th>\n",
       "      <td>Team India arrives in Ahmedabad for a historic match in the world's biggest cricket stadium!  \\n\\nWatch as our stars get ready for their hard-earned final match against Australia! \\n\\nTune-in to the Final #INDvAUS\\nSUN, NOV 19, 12 PM | Star Sports Network\\n#WorldCupOnStar #CWC23</td>\n",
       "    </tr>\n",
       "  </tbody>\n",
       "</table>\n",
       "</div>"
      ],
      "text/plain": [
       "                                                                                                                                                                                                                                                                                      tweets\n",
       "0                                                                                                    Cricket fans! #India & #Netherlands ke beech kaun jeetag aaj ka match! Predict karo! Only on Nissan’s Cricket Ka Blockbuster 2023! \\n@Nissan_India\\n \\n\\n#CKB #CKB2023 #Nissan #cricket\n",
       "1  VIDEO | \"We knew India would register a victory against New Zealand in today's match. Even in the final of World Cup match, we expect a similar winning performance from Team India,\" says a cricket fan in Mumbai as India qualify for the cricket World Cup final beating New Zealand.…\n",
       "2      Is Modi ji coming to watch this match ? Has the current PM ever attended a India Hockey / Football match ?? His involvement can help promote these sports. Cricket is big in India and everyone including film stars  and politicians milk it well . #CWC23Final #INDQAT #FIFAWCQ2026\n",
       "3                                                                                      Mohammed Shami once said “I will rather die than betray my country” \\n India into finals \\nTeam Man Shami  of Indian cricket Team\\n\\nMan of the match (POTM) acc to me\\n\\n#INDvsNZ #IndiaVsNewZealand\n",
       "4    Team India arrives in Ahmedabad for a historic match in the world's biggest cricket stadium!  \\n\\nWatch as our stars get ready for their hard-earned final match against Australia! \\n\\nTune-in to the Final #INDvAUS\\nSUN, NOV 19, 12 PM | Star Sports Network\\n#WorldCupOnStar #CWC23"
      ]
     },
     "execution_count": 12,
     "metadata": {},
     "output_type": "execute_result"
    }
   ],
   "source": [
    "df = pd.DataFrame(all_tweets,columns=['tweets'])\n",
    "df.head()"
   ]
  },
  {
   "cell_type": "code",
   "execution_count": 13,
   "id": "59424434",
   "metadata": {},
   "outputs": [
    {
     "data": {
      "text/plain": [
       "\"Team India arrives in Ahmedabad for a historic match in the world's biggest cricket stadium!  \\n\\nWatch as our stars get ready for their hard-earned final match against Australia! \\n\\nTune-in to the Final #INDvAUS\\nSUN, NOV 19, 12 PM | Star Sports Network\\n#WorldCupOnStar #CWC23\""
      ]
     },
     "execution_count": 13,
     "metadata": {},
     "output_type": "execute_result"
    }
   ],
   "source": [
    "one_tweet=df.iloc[4]['tweets']\n",
    "one_tweet"
   ]
  },
  {
   "cell_type": "code",
   "execution_count": 14,
   "id": "37be13b3",
   "metadata": {},
   "outputs": [
    {
     "name": "stdout",
     "output_type": "stream",
     "text": [
      "['i', 'me', 'my', 'myself', 'we', 'our', 'ours', 'ourselves', 'you', \"you're\", \"you've\", \"you'll\", \"you'd\", 'your', 'yours', 'yourself', 'yourselves', 'he', 'him', 'his', 'himself', 'she', \"she's\", 'her', 'hers', 'herself', 'it', \"it's\", 'its', 'itself', 'they', 'them', 'their', 'theirs', 'themselves', 'what', 'which', 'who', 'whom', 'this', 'that', \"that'll\", 'these', 'those', 'am', 'is', 'are', 'was', 'were', 'be', 'been', 'being', 'have', 'has', 'had', 'having', 'do', 'does', 'did', 'doing', 'a', 'an', 'the', 'and', 'but', 'if', 'or', 'because', 'as', 'until', 'while', 'of', 'at', 'by', 'for', 'with', 'about', 'against', 'between', 'into', 'through', 'during', 'before', 'after', 'above', 'below', 'to', 'from', 'up', 'down', 'in', 'out', 'on', 'off', 'over', 'under', 'again', 'further', 'then', 'once', 'here', 'there', 'when', 'where', 'why', 'how', 'all', 'any', 'both', 'each', 'few', 'more', 'most', 'other', 'some', 'such', 'no', 'nor', 'not', 'only', 'own', 'same', 'so', 'than', 'too', 'very', 's', 't', 'can', 'will', 'just', 'don', \"don't\", 'should', \"should've\", 'now', 'd', 'll', 'm', 'o', 're', 've', 'y', 'ain', 'aren', \"aren't\", 'couldn', \"couldn't\", 'didn', \"didn't\", 'doesn', \"doesn't\", 'hadn', \"hadn't\", 'hasn', \"hasn't\", 'haven', \"haven't\", 'isn', \"isn't\", 'ma', 'mightn', \"mightn't\", 'mustn', \"mustn't\", 'needn', \"needn't\", 'shan', \"shan't\", 'shouldn', \"shouldn't\", 'wasn', \"wasn't\", 'weren', \"weren't\", 'won', \"won't\", 'wouldn', \"wouldn't\"]\n"
     ]
    }
   ],
   "source": [
    "print(stp_words)"
   ]
  },
  {
   "cell_type": "code",
   "execution_count": 15,
   "id": "1650e3c4",
   "metadata": {},
   "outputs": [],
   "source": [
    "from textblob import TextBlob\n",
    "from wordcloud import WordCloud\n",
    "\n",
    "def TweetCleaning(tweet):\n",
    "    cleanTweet = re.sub(r\"@[a-zA-Z0-9]+\",\"\",tweet)\n",
    "    cleanTweet = re.sub(r\"#[a-zA-Z0-9\\s]+\",\"\",cleanTweet)\n",
    "    cleanTweet = ' '.join(word for word in cleanTweet.split() if word not in stp_words)\n",
    "    cleanTweet\n",
    "    return cleanTweet\n",
    "\n",
    "def calPolarity(tweet):\n",
    "    return TextBlob(tweet).sentiment.polarity\n",
    "\n",
    "def calSubjectivity(tweet):\n",
    "    return TextBlob(tweet).sentiment.subjectivity\n",
    "\n",
    "def segmentation(tweet):\n",
    "    if tweet > 0:\n",
    "        return \"positive\"\n",
    "    if tweet == 0:\n",
    "        return \"neutral\"\n",
    "    else:\n",
    "        return \"negative\""
   ]
  },
  {
   "cell_type": "code",
   "execution_count": 16,
   "id": "7dba8feb",
   "metadata": {},
   "outputs": [
    {
     "data": {
      "text/html": [
       "<div>\n",
       "<style scoped>\n",
       "    .dataframe tbody tr th:only-of-type {\n",
       "        vertical-align: middle;\n",
       "    }\n",
       "\n",
       "    .dataframe tbody tr th {\n",
       "        vertical-align: top;\n",
       "    }\n",
       "\n",
       "    .dataframe thead th {\n",
       "        text-align: right;\n",
       "    }\n",
       "</style>\n",
       "<table border=\"1\" class=\"dataframe\">\n",
       "  <thead>\n",
       "    <tr style=\"text-align: right;\">\n",
       "      <th></th>\n",
       "      <th>tweets</th>\n",
       "    </tr>\n",
       "  </thead>\n",
       "  <tbody>\n",
       "    <tr>\n",
       "      <th>0</th>\n",
       "      <td>Cricket fans! #India &amp; #Netherlands ke beech kaun jeetag aaj ka match! Predict karo! Only on Nissan’s Cricket Ka Blockbuster 2023! \\n@Nissan_India\\n \\n\\n#CKB #CKB2023 #Nissan #cricket</td>\n",
       "    </tr>\n",
       "    <tr>\n",
       "      <th>1</th>\n",
       "      <td>VIDEO | \"We knew India would register a victory against New Zealand in today's match. Even in the final of World Cup match, we expect a similar winning performance from Team India,\" says a cricket fan in Mumbai as India qualify for the cricket World Cup final beating New Zealand.…</td>\n",
       "    </tr>\n",
       "    <tr>\n",
       "      <th>2</th>\n",
       "      <td>Is Modi ji coming to watch this match ? Has the current PM ever attended a India Hockey / Football match ?? His involvement can help promote these sports. Cricket is big in India and everyone including film stars  and politicians milk it well . #CWC23Final #INDQAT #FIFAWCQ2026</td>\n",
       "    </tr>\n",
       "    <tr>\n",
       "      <th>3</th>\n",
       "      <td>Mohammed Shami once said “I will rather die than betray my country” \\n India into finals \\nTeam Man Shami  of Indian cricket Team\\n\\nMan of the match (POTM) acc to me\\n\\n#INDvsNZ #IndiaVsNewZealand</td>\n",
       "    </tr>\n",
       "    <tr>\n",
       "      <th>4</th>\n",
       "      <td>Team India arrives in Ahmedabad for a historic match in the world's biggest cricket stadium!  \\n\\nWatch as our stars get ready for their hard-earned final match against Australia! \\n\\nTune-in to the Final #INDvAUS\\nSUN, NOV 19, 12 PM | Star Sports Network\\n#WorldCupOnStar #CWC23</td>\n",
       "    </tr>\n",
       "  </tbody>\n",
       "</table>\n",
       "</div>"
      ],
      "text/plain": [
       "                                                                                                                                                                                                                                                                                      tweets\n",
       "0                                                                                                    Cricket fans! #India & #Netherlands ke beech kaun jeetag aaj ka match! Predict karo! Only on Nissan’s Cricket Ka Blockbuster 2023! \\n@Nissan_India\\n \\n\\n#CKB #CKB2023 #Nissan #cricket\n",
       "1  VIDEO | \"We knew India would register a victory against New Zealand in today's match. Even in the final of World Cup match, we expect a similar winning performance from Team India,\" says a cricket fan in Mumbai as India qualify for the cricket World Cup final beating New Zealand.…\n",
       "2      Is Modi ji coming to watch this match ? Has the current PM ever attended a India Hockey / Football match ?? His involvement can help promote these sports. Cricket is big in India and everyone including film stars  and politicians milk it well . #CWC23Final #INDQAT #FIFAWCQ2026\n",
       "3                                                                                      Mohammed Shami once said “I will rather die than betray my country” \\n India into finals \\nTeam Man Shami  of Indian cricket Team\\n\\nMan of the match (POTM) acc to me\\n\\n#INDvsNZ #IndiaVsNewZealand\n",
       "4    Team India arrives in Ahmedabad for a historic match in the world's biggest cricket stadium!  \\n\\nWatch as our stars get ready for their hard-earned final match against Australia! \\n\\nTune-in to the Final #INDvAUS\\nSUN, NOV 19, 12 PM | Star Sports Network\\n#WorldCupOnStar #CWC23"
      ]
     },
     "execution_count": 16,
     "metadata": {},
     "output_type": "execute_result"
    }
   ],
   "source": [
    "df = pd.DataFrame(all_tweets,columns=['tweets'])\n",
    "df.head()"
   ]
  },
  {
   "cell_type": "code",
   "execution_count": 17,
   "id": "18e68ac1",
   "metadata": {},
   "outputs": [
    {
     "data": {
      "text/html": [
       "<div>\n",
       "<style scoped>\n",
       "    .dataframe tbody tr th:only-of-type {\n",
       "        vertical-align: middle;\n",
       "    }\n",
       "\n",
       "    .dataframe tbody tr th {\n",
       "        vertical-align: top;\n",
       "    }\n",
       "\n",
       "    .dataframe thead th {\n",
       "        text-align: right;\n",
       "    }\n",
       "</style>\n",
       "<table border=\"1\" class=\"dataframe\">\n",
       "  <thead>\n",
       "    <tr style=\"text-align: right;\">\n",
       "      <th></th>\n",
       "      <th>tweets</th>\n",
       "    </tr>\n",
       "  </thead>\n",
       "  <tbody>\n",
       "    <tr>\n",
       "      <th>0</th>\n",
       "      <td>Cricket fans! #India &amp; #Netherlands ke beech kaun jeetag aaj ka match! Predict karo! Only on Nissan’s Cricket Ka Blockbuster 2023! \\n@Nissan_India\\n \\n\\n#CKB #CKB2023 #Nissan #cricket</td>\n",
       "    </tr>\n",
       "    <tr>\n",
       "      <th>1</th>\n",
       "      <td>VIDEO | \"We knew India would register a victory against New Zealand in today's match. Even in the final of World Cup match, we expect a similar winning performance from Team India,\" says a cricket fan in Mumbai as India qualify for the cricket World Cup final beating New Zealand.…</td>\n",
       "    </tr>\n",
       "    <tr>\n",
       "      <th>2</th>\n",
       "      <td>Is Modi ji coming to watch this match ? Has the current PM ever attended a India Hockey / Football match ?? His involvement can help promote these sports. Cricket is big in India and everyone including film stars  and politicians milk it well . #CWC23Final #INDQAT #FIFAWCQ2026</td>\n",
       "    </tr>\n",
       "    <tr>\n",
       "      <th>3</th>\n",
       "      <td>Mohammed Shami once said “I will rather die than betray my country” \\n India into finals \\nTeam Man Shami  of Indian cricket Team\\n\\nMan of the match (POTM) acc to me\\n\\n#INDvsNZ #IndiaVsNewZealand</td>\n",
       "    </tr>\n",
       "    <tr>\n",
       "      <th>4</th>\n",
       "      <td>Team India arrives in Ahmedabad for a historic match in the world's biggest cricket stadium!  \\n\\nWatch as our stars get ready for their hard-earned final match against Australia! \\n\\nTune-in to the Final #INDvAUS\\nSUN, NOV 19, 12 PM | Star Sports Network\\n#WorldCupOnStar #CWC23</td>\n",
       "    </tr>\n",
       "    <tr>\n",
       "      <th>5</th>\n",
       "      <td>Congratulations to Team India \\nWhat a massive victory in the #Cricket #WorldCup2023 Semi Final match!</td>\n",
       "    </tr>\n",
       "    <tr>\n",
       "      <th>6</th>\n",
       "      <td>VIDEO | Mohammed Shami played really well in cricket match against New Zealand. I do not think that without him India would have won today's match,\" says a fan after India qualify for the cricket World Cup final beating New Zealand in Mumbai.</td>\n",
       "    </tr>\n",
       "    <tr>\n",
       "      <th>7</th>\n",
       "      <td>Remember what happened when India met Australia last time in a World Cup Knockout match in Ahmedabad?\\nSurely everyone does \\n#INDvsAUS</td>\n",
       "    </tr>\n",
       "    <tr>\n",
       "      <th>8</th>\n",
       "      <td>VIDEO | Gujarat CM \\n@Bhupendrapbjp\\n held a high-level meeting with officials in Gandhinagar regarding the final match of the cricket World Cup which will be held in Ahmedabad on November 19.\\n\\n(Source: Third Party)</td>\n",
       "    </tr>\n",
       "    <tr>\n",
       "      <th>9</th>\n",
       "      <td>#EXCLUSIVE: Salman Khan Starrer YRF’s Spy Universe Film Tiger 3 Drops On 3rd Day Despite Partial Holiday, Collects Less Than Day 1 &amp; Day 2 Numbers!\\n\\nTomorrow’s BIG World Cup India’s cricket match might ensure further drop!\\n\\nhttps://boxofficeworldwide.com/box-office/exclusive-salman-khan-starrer-yrfs-spy-universe-film-tiger-3-drops-on-3rd-day-collects-less-than-day-1-and-day-2-numbers/…\\n\\n#SalmanKhan #KatrinaKaif…</td>\n",
       "    </tr>\n",
       "    <tr>\n",
       "      <th>10</th>\n",
       "      <td>GOOSEBUMPS EDIT BY STAR SPORTS \\n\\n- Wishing all the best for India in the Ultimate match of cricket.\\n\\n#WorldcupFinal #INDvsAUSfinal #Shami #NarendraModiStadium \\nAhmedabad | Siraj | Bumrah</td>\n",
       "    </tr>\n",
       "    <tr>\n",
       "      <th>11</th>\n",
       "      <td>Just rewind the toss and watch again &amp; again, Match Referee Andy Pycroft says it’s India who have won the toss even before seeing the coin which had landed. #CWC2023</td>\n",
       "    </tr>\n",
       "    <tr>\n",
       "      <th>12</th>\n",
       "      <td>| India vs Qatar match banner up at the Bhubaneswar Airport, the amount of effort @sports_odisha / Odisha Govt is putting in promoting #INDQAT is really impressive and commendable. Posters have come up everywhere in the city as well #IndianFootball</td>\n",
       "    </tr>\n",
       "    <tr>\n",
       "      <th>13</th>\n",
       "      <td>Life Update:\\n\\nWhile most of us were watching the semi-finals between India and New Zealand during the ongoing Cricket World Cup  from phones and TVs, I got lucky in joining the \\n@DisneyPlusHS\\n team in office during the match.\\n\\nI joined the Product team at Disney+ Hotstar…</td>\n",
       "    </tr>\n",
       "    <tr>\n",
       "      <th>14</th>\n",
       "      <td>The carnival is 1 night away...!!!!\\n\\nThe biggest day in Indian cricket history tomorrow.\\nRohit Sharma will become first Indian captain to win World Cup without losing any match. \\n\\n- 'Jeetega, India Jeetega'.\\n\\n#INDvsAUSfinal #INDvsAUS #WorldcupFinal #CWC2023Final #CWC23Final…</td>\n",
       "    </tr>\n",
       "    <tr>\n",
       "      <th>15</th>\n",
       "      <td>[RUMORED]  \\n\\nKpop sensation blackpink is in talks with ygent to let blackpink perform at the closing ceremony of ICC Men's Cricket World Cup 2023. The final match between India and Australia will take place on 19 November at the Narendra Modi Stadium in Ahmedabad.</td>\n",
       "    </tr>\n",
       "    <tr>\n",
       "      <th>16</th>\n",
       "      <td>After winning the player of the match trophy in the cricket world cup semi-finals against New Zealand, another good news for India's destroyer-in-chief Mohammad Shami. #UPCM Shri \\n@myogiadityanath\\n Ji government is set to construct stadium at Shami’s native village in Amroha.\\n\\nDM…</td>\n",
       "    </tr>\n",
       "    <tr>\n",
       "      <th>17</th>\n",
       "      <td>'#KillThisLove' by \\n@BLACKPINK\\n was played multiple times during the #INDvsNZ Semi-Finals match of 2023 ICC Men's Cricket World Cup\\n\\n[Over 50 million viewers were watching the match online]\\n#BLACKPINK #블랙핑크\\nhttps://twitter.com/pinkrachas/status/1724758701318524950/video/1…</td>\n",
       "    </tr>\n",
       "    <tr>\n",
       "      <th>18</th>\n",
       "      <td>#WATCH | Ahmedabad: On fire department preparation ahead of the ICC Men's Cricket World Cup 2023 final match, Incharge Chief Fire Officer Jayesh Khadia says, \"In Ahmedabad, 5–6 matches have been played, including India vs. Pakistan. Now for the final India and Australia are going…</td>\n",
       "    </tr>\n",
       "    <tr>\n",
       "      <th>19</th>\n",
       "      <td>@raghvendrakr_DU analyzes India-China competition within the context of changing domestic political dynamics in the Maldives.</td>\n",
       "    </tr>\n",
       "    <tr>\n",
       "      <th>20</th>\n",
       "      <td>Indian cricket team has reached Ahmedabad for Final match \\n\\nThe hotel staff gave a grand welcome to Team India \\n\\n#SAvsAUS #Finals \\n#semifinal2  #AUSvsSA\\n#CWC2023INDIA</td>\n",
       "    </tr>\n",
       "    <tr>\n",
       "      <th>21</th>\n",
       "      <td>Mohammed Shami has been absolutely phenomenal in World Cup 2023\\n\\nJasprit Bumrah has been India’s most reliable bowler \\n\\nSiraj has delivered match-winning spell \\n\\nRohit Sharma has given thunderous starts \\n\\nShreyas Iyer has played outstanding innings \\n\\nKL Rahul has been a force in…</td>\n",
       "    </tr>\n",
       "    <tr>\n",
       "      <th>22</th>\n",
       "      <td>Pakistan journalist calls Indian fans at the India vs Pakistan match in Ahmedabad \"dogs\" who were \"barking\" and said insinuates Narendra Modi had unleashed them at the Pakistan Cricket Team.\\n\\nHe says Pakistan should have walked out of the match.</td>\n",
       "    </tr>\n",
       "    <tr>\n",
       "      <th>23</th>\n",
       "      <td>Gujarat: Cricket fans arrive in Ahmedabad ahead of the #ICCCricketWorldCup final match\\n\\nIndia will face Australia in the finals of the #ICCCricketWorldCup at Narendra Modi Stadium in Ahmedabad tomorrow, November 19</td>\n",
       "    </tr>\n",
       "    <tr>\n",
       "      <th>24</th>\n",
       "      <td>Captain #RohitSharma𓃵 with Mumbai Cricket association officals after the match.\\n\\n- A beautiful picture. #INDvsNZ</td>\n",
       "    </tr>\n",
       "    <tr>\n",
       "      <th>25</th>\n",
       "      <td>DID YOU KNOW? \\n\\nVirat Kohli is the first Indian male player to achieve both 50 runs &amp; 1 wicket in a single match in both the T20 World Cup and ODI World Cup. \\n\\n#ViratKohli #Cricket #India #CWC23 #Sportskeeda</td>\n",
       "    </tr>\n",
       "    <tr>\n",
       "      <th>26</th>\n",
       "      <td>The match changed from here\\nThis is what a leader does. India is blessed to have Rohit Sharma the leader \\n#INDvsNZ #Cricket \\nhttps://twitter.com/Exhausted_45/status/1724986471256637577/video/2…</td>\n",
       "    </tr>\n",
       "    <tr>\n",
       "      <th>27</th>\n",
       "      <td>T20 Suryakumar Yadav is likely to captain India in the five match T20 #INDvsAUS</td>\n",
       "    </tr>\n",
       "    <tr>\n",
       "      <th>28</th>\n",
       "      <td>India is going to face Australia in final match of ICC Cricket World Cup 2023. Ahead of this match, here’s a look at all the past winners\\n\\nWhich teams have won the ODI Cricket World Cup, and when? Find out \\n\\n#ICCCricketWorldCup #INDvsAUS #Cricket</td>\n",
       "    </tr>\n",
       "    <tr>\n",
       "      <th>29</th>\n",
       "      <td>In the courtyard of Baba Bankhandeshwar Temple located at Kanpur P Road, cricket lovers performed 'havan puja' for India's historic victory in the final of the World Cup match between India and Australia yesterday.Good wishes of Indian team।\\n#kanpur</td>\n",
       "    </tr>\n",
       "    <tr>\n",
       "      <th>30</th>\n",
       "      <td>All eyes are on Kolkata for the second semi-final after India reaches the final of the ICC Men's Cricket World Cup 2023.\\n\\nAustralia and South Africa lock horns at the Eden Gardens in the second semi-final match of the ICC Men's Cricket World Cup 2023. India defeated their nemesis…</td>\n",
       "    </tr>\n",
       "    <tr>\n",
       "      <th>31</th>\n",
       "      <td>#WATCH | Ahead of the ICC Men's Cricket World Cup 2023 final match, BCCI vice-president Rajiv Shukla says, \"I am hopeful India will lift the trophy tomorrow. It will be a very successful final. Our players are in form and are giving very good performances in every match...\"</td>\n",
       "    </tr>\n",
       "    <tr>\n",
       "      <th>32</th>\n",
       "      <td>Australia have 9 Test match regulars in their one day side. India have 10. Both teams in the finals. Shows 50 overs cricket, as a format, is closer to Tests than T20s.</td>\n",
       "    </tr>\n",
       "    <tr>\n",
       "      <th>33</th>\n",
       "      <td>GOOSEBUMPS EDIT BY STAR SPORTS \\n\\n- Wishing all the best for India in the Ultimate match of cricket.</td>\n",
       "    </tr>\n",
       "    <tr>\n",
       "      <th>34</th>\n",
       "      <td>Finally the semi-final day is here.\\nDon’t remember the last time I was this tense for a cricket match. Go well Team India</td>\n",
       "    </tr>\n",
       "    <tr>\n",
       "      <th>35</th>\n",
       "      <td>Predict and Win Big \\n\\n India vs New Zealand \\n\\nWhich team will win this 1st Semi-Final of #ICCWorldCup2023 match tomorrow?\\n\\n Comment your prediction &amp; win 1000 GMF\\n\\nComplete Galxe task &amp; Get Daily OAT + Loyalty Points</td>\n",
       "    </tr>\n",
       "    <tr>\n",
       "      <th>36</th>\n",
       "      <td>VIDEO | Cricket fans in Nagpur celebrate the victory of India against New Zealand in the World Cup semi-final match in Mumbai.    \\n\\n#INDvsNZ #WorldCup2023</td>\n",
       "    </tr>\n",
       "    <tr>\n",
       "      <th>37</th>\n",
       "      <td>There never was Cricket on the day of popular festivals. Boxing Day, not Christmas. Chhoti Diwali, or the day after Diwali, not Diwali.\\n\\nDhandhos are so greedy, they've organised an India Match on Diwali itself. \\n\\nAlso indicates how festivals are now centered around consumption.</td>\n",
       "    </tr>\n",
       "    <tr>\n",
       "      <th>38</th>\n",
       "      <td>#WATCH | West Bengal: A huge crowd gathered in Siliguri to witness India vs New Zealand's semi-final match in the ICC Cricket World Cup.</td>\n",
       "    </tr>\n",
       "    <tr>\n",
       "      <th>39</th>\n",
       "      <td>What a match its going to be India vs Australia final at Ahmedabad.\\nPat Cummins and his side dominated Bavuma and his boys at Kolkata\\nBrilliant form Maharaj, Shamsi and coetzee \\n#SAvsAUS #ViratKohli𓃵 #SAvAUS #AUSvsSA #INDvsAUS #WorldcupFinal</td>\n",
       "    </tr>\n",
       "    <tr>\n",
       "      <th>40</th>\n",
       "      <td>Just realized Kolly has lowest SR among top 15 runscorer in this WC. There's reason why people are calling him selfish</td>\n",
       "    </tr>\n",
       "    <tr>\n",
       "      <th>41</th>\n",
       "      <td>the selectors, the coaches, the universe will bow down to you legend, everytime India plays a match without you is the loss of cricket, \\nyou have proved your miraculous presence everytime and your name will be remembered even after the universe cease to exist\\nYOU RULE SHAMI</td>\n",
       "    </tr>\n",
       "    <tr>\n",
       "      <th>42</th>\n",
       "      <td>Namaskar Wankhede it's toss time for the first semi final of ICC cricket World Cup 2023 between India and New Zealand alongside me I have the Indian captain Rohit Sharma New Zealand captain Kane Williamson match referee and the match representative Rohit will spin the coin...</td>\n",
       "    </tr>\n",
       "    <tr>\n",
       "      <th>43</th>\n",
       "      <td>My first cricket match in stadium!\\n\\nCan't ask for a better #DiwaliCelebrations\\n\\n#WorldCup23 #India match\\n\\n3 half centuries &amp; 2 centuries\\n400+ score from #Indian team.\\n\\nBowling from the king \\n@imVkohli\\n, Hitman \\n@ImRo45\\n , Prince #Gill &amp; mighty Sky</td>\n",
       "    </tr>\n",
       "    <tr>\n",
       "      <th>44</th>\n",
       "      <td>VIDEO | \"Mohammed Shami came and took so many wickets of New Zealand. India will win the final of the cricket World Cup match,\" says a fan as India qualify for the cricket World Cup final beating New Zealand in Mumbai.</td>\n",
       "    </tr>\n",
       "    <tr>\n",
       "      <th>45</th>\n",
       "      <td>Wishing all the best for India in the Ultimate match of cricket.\\n\\n#WorldcupFinal #INDvsAUSfinal #Shami #NarendraModiStadium \\nAhmedabad | Siraj | Bumrah</td>\n",
       "    </tr>\n",
       "    <tr>\n",
       "      <th>46</th>\n",
       "      <td>so it’s basically going to be Chak De India’s final match but cricket version this Sunday</td>\n",
       "    </tr>\n",
       "    <tr>\n",
       "      <th>47</th>\n",
       "      <td>Virat Kohli and Rohit Sharma during the entire match\\n\\n#CWC23 #CWC2023Final #INDvsAUS #RohitSharma𓃵 #ViratKohli𓃵</td>\n",
       "    </tr>\n",
       "    <tr>\n",
       "      <th>48</th>\n",
       "      <td>In a thrilling clash at Eden Gardens, Australia secured their spot in the ICC Cricket WC 2023 final by defeating South Africa in the 2nd semifinal. Now, it's set to be a showdown between cricket giants India and Australia in the much-anticipated championship match.\\n@DSKTweeets</td>\n",
       "    </tr>\n",
       "    <tr>\n",
       "      <th>49</th>\n",
       "      <td>Dr. Y. S. Rajashekar Reddy ACA–VDCA Cricket Stadium Vishakapatnam getting ready for 1st T20I match between India vs Australia.</td>\n",
       "    </tr>\n",
       "    <tr>\n",
       "      <th>50</th>\n",
       "      <td>Remove his Australia inning and his strike rate goes up.\\n\\nRemove his Australia inning and we lose the very first match of the WC.\\n\\nYou need some minimum intelligence to follow cricket, which you clearly don’t have.\\nKohli’s contribution towards India’s win is second to none.</td>\n",
       "    </tr>\n",
       "    <tr>\n",
       "      <th>51</th>\n",
       "      <td>Kohli has not just been the face of cricket but also India, Rohit's biggest achievement is being compared to this great man. While he doesn't even match kohli's shoe dust legacy! \\n\\n\"LEADER KOHLI CARRYING INDIA\"</td>\n",
       "    </tr>\n",
       "  </tbody>\n",
       "</table>\n",
       "</div>"
      ],
      "text/plain": [
       "                                                                                                                                                                                                                                                                                                                                                                                                                                   tweets\n",
       "0                                                                                                                                                                                                                                                 Cricket fans! #India & #Netherlands ke beech kaun jeetag aaj ka match! Predict karo! Only on Nissan’s Cricket Ka Blockbuster 2023! \\n@Nissan_India\\n \\n\\n#CKB #CKB2023 #Nissan #cricket\n",
       "1                                                                                                                                               VIDEO | \"We knew India would register a victory against New Zealand in today's match. Even in the final of World Cup match, we expect a similar winning performance from Team India,\" says a cricket fan in Mumbai as India qualify for the cricket World Cup final beating New Zealand.…\n",
       "2                                                                                                                                                   Is Modi ji coming to watch this match ? Has the current PM ever attended a India Hockey / Football match ?? His involvement can help promote these sports. Cricket is big in India and everyone including film stars  and politicians milk it well . #CWC23Final #INDQAT #FIFAWCQ2026\n",
       "3                                                                                                                                                                                                                                   Mohammed Shami once said “I will rather die than betray my country” \\n India into finals \\nTeam Man Shami  of Indian cricket Team\\n\\nMan of the match (POTM) acc to me\\n\\n#INDvsNZ #IndiaVsNewZealand\n",
       "4                                                                                                                                                 Team India arrives in Ahmedabad for a historic match in the world's biggest cricket stadium!  \\n\\nWatch as our stars get ready for their hard-earned final match against Australia! \\n\\nTune-in to the Final #INDvAUS\\nSUN, NOV 19, 12 PM | Star Sports Network\\n#WorldCupOnStar #CWC23\n",
       "5                                                                                                                                                                                                                                                                                                                                  Congratulations to Team India \\nWhat a massive victory in the #Cricket #WorldCup2023 Semi Final match!\n",
       "6                                                                                                                                                                                      VIDEO | Mohammed Shami played really well in cricket match against New Zealand. I do not think that without him India would have won today's match,\" says a fan after India qualify for the cricket World Cup final beating New Zealand in Mumbai.\n",
       "7                                                                                                                                                                                                                                                                                                 Remember what happened when India met Australia last time in a World Cup Knockout match in Ahmedabad?\\nSurely everyone does \\n#INDvsAUS\n",
       "8                                                                                                                                                                                                               VIDEO | Gujarat CM \\n@Bhupendrapbjp\\n held a high-level meeting with officials in Gandhinagar regarding the final match of the cricket World Cup which will be held in Ahmedabad on November 19.\\n\\n(Source: Third Party)\n",
       "9   #EXCLUSIVE: Salman Khan Starrer YRF’s Spy Universe Film Tiger 3 Drops On 3rd Day Despite Partial Holiday, Collects Less Than Day 1 & Day 2 Numbers!\\n\\nTomorrow’s BIG World Cup India’s cricket match might ensure further drop!\\n\\nhttps://boxofficeworldwide.com/box-office/exclusive-salman-khan-starrer-yrfs-spy-universe-film-tiger-3-drops-on-3rd-day-collects-less-than-day-1-and-day-2-numbers/…\\n\\n#SalmanKhan #KatrinaKaif…\n",
       "10                                                                                                                                                                                                                                        GOOSEBUMPS EDIT BY STAR SPORTS \\n\\n- Wishing all the best for India in the Ultimate match of cricket.\\n\\n#WorldcupFinal #INDvsAUSfinal #Shami #NarendraModiStadium \\nAhmedabad | Siraj | Bumrah\n",
       "11                                                                                                                                                                                                                                                                  Just rewind the toss and watch again & again, Match Referee Andy Pycroft says it’s India who have won the toss even before seeing the coin which had landed. #CWC2023\n",
       "12                                                                                                                                                                               | India vs Qatar match banner up at the Bhubaneswar Airport, the amount of effort @sports_odisha / Odisha Govt is putting in promoting #INDQAT is really impressive and commendable. Posters have come up everywhere in the city as well #IndianFootball\n",
       "13                                                                                                                                                 Life Update:\\n\\nWhile most of us were watching the semi-finals between India and New Zealand during the ongoing Cricket World Cup  from phones and TVs, I got lucky in joining the \\n@DisneyPlusHS\\n team in office during the match.\\n\\nI joined the Product team at Disney+ Hotstar…\n",
       "14                                                                                                                                             The carnival is 1 night away...!!!!\\n\\nThe biggest day in Indian cricket history tomorrow.\\nRohit Sharma will become first Indian captain to win World Cup without losing any match. \\n\\n- 'Jeetega, India Jeetega'.\\n\\n#INDvsAUSfinal #INDvsAUS #WorldcupFinal #CWC2023Final #CWC23Final…\n",
       "15                                                                                                                                                             [RUMORED]  \\n\\nKpop sensation blackpink is in talks with ygent to let blackpink perform at the closing ceremony of ICC Men's Cricket World Cup 2023. The final match between India and Australia will take place on 19 November at the Narendra Modi Stadium in Ahmedabad.\n",
       "16                                                                                                                                          After winning the player of the match trophy in the cricket world cup semi-finals against New Zealand, another good news for India's destroyer-in-chief Mohammad Shami. #UPCM Shri \\n@myogiadityanath\\n Ji government is set to construct stadium at Shami’s native village in Amroha.\\n\\nDM…\n",
       "17                                                                                                                                                '#KillThisLove' by \\n@BLACKPINK\\n was played multiple times during the #INDvsNZ Semi-Finals match of 2023 ICC Men's Cricket World Cup\\n\\n[Over 50 million viewers were watching the match online]\\n#BLACKPINK #블랙핑크\\nhttps://twitter.com/pinkrachas/status/1724758701318524950/video/1…\n",
       "18                                                                                                                                              #WATCH | Ahmedabad: On fire department preparation ahead of the ICC Men's Cricket World Cup 2023 final match, Incharge Chief Fire Officer Jayesh Khadia says, \"In Ahmedabad, 5–6 matches have been played, including India vs. Pakistan. Now for the final India and Australia are going…\n",
       "19                                                                                                                                                                                                                                                                                                          @raghvendrakr_DU analyzes India-China competition within the context of changing domestic political dynamics in the Maldives.\n",
       "20                                                                                                                                                                                                                                                           Indian cricket team has reached Ahmedabad for Final match \\n\\nThe hotel staff gave a grand welcome to Team India \\n\\n#SAvsAUS #Finals \\n#semifinal2  #AUSvsSA\\n#CWC2023INDIA\n",
       "21                                                                                                                                     Mohammed Shami has been absolutely phenomenal in World Cup 2023\\n\\nJasprit Bumrah has been India’s most reliable bowler \\n\\nSiraj has delivered match-winning spell \\n\\nRohit Sharma has given thunderous starts \\n\\nShreyas Iyer has played outstanding innings \\n\\nKL Rahul has been a force in…\n",
       "22                                                                                                                                                                                Pakistan journalist calls Indian fans at the India vs Pakistan match in Ahmedabad \"dogs\" who were \"barking\" and said insinuates Narendra Modi had unleashed them at the Pakistan Cricket Team.\\n\\nHe says Pakistan should have walked out of the match.\n",
       "23                                                                                                                                                                                                               Gujarat: Cricket fans arrive in Ahmedabad ahead of the #ICCCricketWorldCup final match\\n\\nIndia will face Australia in the finals of the #ICCCricketWorldCup at Narendra Modi Stadium in Ahmedabad tomorrow, November 19\n",
       "24                                                                                                                                                                                                                                                                                                                     Captain #RohitSharma𓃵 with Mumbai Cricket association officals after the match.\\n\\n- A beautiful picture. #INDvsNZ\n",
       "25                                                                                                                                                                                                                    DID YOU KNOW? \\n\\nVirat Kohli is the first Indian male player to achieve both 50 runs & 1 wicket in a single match in both the T20 World Cup and ODI World Cup. \\n\\n#ViratKohli #Cricket #India #CWC23 #Sportskeeda\n",
       "26                                                                                                                                                                                                                                   The match changed from here\\nThis is what a leader does. India is blessed to have Rohit Sharma the leader \\n#INDvsNZ #Cricket \\nhttps://twitter.com/Exhausted_45/status/1724986471256637577/video/2…\n",
       "27                                                                                                                                                                                                                                                                                                                                                        T20 Suryakumar Yadav is likely to captain India in the five match T20 #INDvsAUS\n",
       "28                                                                                                                                                                             India is going to face Australia in final match of ICC Cricket World Cup 2023. Ahead of this match, here’s a look at all the past winners\\n\\nWhich teams have won the ODI Cricket World Cup, and when? Find out \\n\\n#ICCCricketWorldCup #INDvsAUS #Cricket\n",
       "29                                                                                                                                                                             In the courtyard of Baba Bankhandeshwar Temple located at Kanpur P Road, cricket lovers performed 'havan puja' for India's historic victory in the final of the World Cup match between India and Australia yesterday.Good wishes of Indian team।\\n#kanpur\n",
       "30                                                                                                                                            All eyes are on Kolkata for the second semi-final after India reaches the final of the ICC Men's Cricket World Cup 2023.\\n\\nAustralia and South Africa lock horns at the Eden Gardens in the second semi-final match of the ICC Men's Cricket World Cup 2023. India defeated their nemesis…\n",
       "31                                                                                                                                                     #WATCH | Ahead of the ICC Men's Cricket World Cup 2023 final match, BCCI vice-president Rajiv Shukla says, \"I am hopeful India will lift the trophy tomorrow. It will be a very successful final. Our players are in form and are giving very good performances in every match...\"\n",
       "32                                                                                                                                                                                                                                                                Australia have 9 Test match regulars in their one day side. India have 10. Both teams in the finals. Shows 50 overs cricket, as a format, is closer to Tests than T20s.\n",
       "33                                                                                                                                                                                                                                                                                                                                  GOOSEBUMPS EDIT BY STAR SPORTS \\n\\n- Wishing all the best for India in the Ultimate match of cricket.\n",
       "34                                                                                                                                                                                                                                                                                                            Finally the semi-final day is here.\\nDon’t remember the last time I was this tense for a cricket match. Go well Team India \n",
       "35                                                                                                                                                                                                       Predict and Win Big \\n\\n India vs New Zealand \\n\\nWhich team will win this 1st Semi-Final of #ICCWorldCup2023 match tomorrow?\\n\\n Comment your prediction & win 1000 GMF\\n\\nComplete Galxe task & Get Daily OAT + Loyalty Points\n",
       "36                                                                                                                                                                                                                                                                           VIDEO | Cricket fans in Nagpur celebrate the victory of India against New Zealand in the World Cup semi-final match in Mumbai.    \\n\\n#INDvsNZ #WorldCup2023\n",
       "37                                                                                                                                            There never was Cricket on the day of popular festivals. Boxing Day, not Christmas. Chhoti Diwali, or the day after Diwali, not Diwali.\\n\\nDhandhos are so greedy, they've organised an India Match on Diwali itself. \\n\\nAlso indicates how festivals are now centered around consumption.\n",
       "38                                                                                                                                                                                                                                                                                               #WATCH | West Bengal: A huge crowd gathered in Siliguri to witness India vs New Zealand's semi-final match in the ICC Cricket World Cup.\n",
       "39                                                                                                                                                                                   What a match its going to be India vs Australia final at Ahmedabad.\\nPat Cummins and his side dominated Bavuma and his boys at Kolkata\\nBrilliant form Maharaj, Shamsi and coetzee \\n#SAvsAUS #ViratKohli𓃵 #SAvAUS #AUSvsSA #INDvsAUS #WorldcupFinal\n",
       "40                                                                                                                                                                                                                                                                                                                 Just realized Kolly has lowest SR among top 15 runscorer in this WC. There's reason why people are calling him selfish\n",
       "41                                                                                                                                                   the selectors, the coaches, the universe will bow down to you legend, everytime India plays a match without you is the loss of cricket, \\nyou have proved your miraculous presence everytime and your name will be remembered even after the universe cease to exist\\nYOU RULE SHAMI\n",
       "42                                                                                                                                                   Namaskar Wankhede it's toss time for the first semi final of ICC cricket World Cup 2023 between India and New Zealand alongside me I have the Indian captain Rohit Sharma New Zealand captain Kane Williamson match referee and the match representative Rohit will spin the coin...\n",
       "43                                                                                                                                                                  My first cricket match in stadium!\\n\\nCan't ask for a better #DiwaliCelebrations\\n\\n#WorldCup23 #India match\\n\\n3 half centuries & 2 centuries\\n400+ score from #Indian team.\\n\\nBowling from the king \\n@imVkohli\\n, Hitman \\n@ImRo45\\n , Prince #Gill & mighty Sky \n",
       "44                                                                                                                                                                                                             VIDEO | \"Mohammed Shami came and took so many wickets of New Zealand. India will win the final of the cricket World Cup match,\" says a fan as India qualify for the cricket World Cup final beating New Zealand in Mumbai.\n",
       "45                                                                                                                                                                                                                                                                             Wishing all the best for India in the Ultimate match of cricket.\\n\\n#WorldcupFinal #INDvsAUSfinal #Shami #NarendraModiStadium \\nAhmedabad | Siraj | Bumrah\n",
       "46                                                                                                                                                                                                                                                                                                                                              so it’s basically going to be Chak De India’s final match but cricket version this Sunday\n",
       "47                                                                                                                                                                                                                                                                                                                      Virat Kohli and Rohit Sharma during the entire match\\n\\n#CWC23 #CWC2023Final #INDvsAUS #RohitSharma𓃵 #ViratKohli𓃵\n",
       "48                                                                                                                                                 In a thrilling clash at Eden Gardens, Australia secured their spot in the ICC Cricket WC 2023 final by defeating South Africa in the 2nd semifinal. Now, it's set to be a showdown between cricket giants India and Australia in the much-anticipated championship match.\\n@DSKTweeets\n",
       "49                                                                                                                                                                                                                                                                                                         Dr. Y. S. Rajashekar Reddy ACA–VDCA Cricket Stadium Vishakapatnam getting ready for 1st T20I match between India vs Australia.\n",
       "50                                                                                                                                                Remove his Australia inning and his strike rate goes up.\\n\\nRemove his Australia inning and we lose the very first match of the WC.\\n\\nYou need some minimum intelligence to follow cricket, which you clearly don’t have.\\nKohli’s contribution towards India’s win is second to none.\n",
       "51                                                                                                                                                                                                                   Kohli has not just been the face of cricket but also India, Rohit's biggest achievement is being compared to this great man. While he doesn't even match kohli's shoe dust legacy! \\n\\n\"LEADER KOHLI CARRYING INDIA\""
      ]
     },
     "execution_count": 17,
     "metadata": {},
     "output_type": "execute_result"
    }
   ],
   "source": [
    "tweet=df\n",
    "tweet"
   ]
  },
  {
   "cell_type": "code",
   "execution_count": 18,
   "id": "a3dd4c77",
   "metadata": {},
   "outputs": [
    {
     "data": {
      "text/html": [
       "<div>\n",
       "<style scoped>\n",
       "    .dataframe tbody tr th:only-of-type {\n",
       "        vertical-align: middle;\n",
       "    }\n",
       "\n",
       "    .dataframe tbody tr th {\n",
       "        vertical-align: top;\n",
       "    }\n",
       "\n",
       "    .dataframe thead th {\n",
       "        text-align: right;\n",
       "    }\n",
       "</style>\n",
       "<table border=\"1\" class=\"dataframe\">\n",
       "  <thead>\n",
       "    <tr style=\"text-align: right;\">\n",
       "      <th></th>\n",
       "      <th>tweets</th>\n",
       "      <th>cleanedTweets</th>\n",
       "      <th>tPolarity</th>\n",
       "      <th>tSubjectivity</th>\n",
       "      <th>segmentation</th>\n",
       "    </tr>\n",
       "  </thead>\n",
       "  <tbody>\n",
       "    <tr>\n",
       "      <th>0</th>\n",
       "      <td>Cricket fans! #India &amp; #Netherlands ke beech kaun jeetag aaj ka match! Predict karo! Only on Nissan’s Cricket Ka Blockbuster 2023! \\n@Nissan_India\\n \\n\\n#CKB #CKB2023 #Nissan #cricket</td>\n",
       "      <td>Cricket fans! &amp; ! Predict karo! Only Nissan’s Cricket Ka Blockbuster 2023! _India</td>\n",
       "      <td>0.000000</td>\n",
       "      <td>1.000000</td>\n",
       "      <td>neutral</td>\n",
       "    </tr>\n",
       "    <tr>\n",
       "      <th>1</th>\n",
       "      <td>VIDEO | \"We knew India would register a victory against New Zealand in today's match. Even in the final of World Cup match, we expect a similar winning performance from Team India,\" says a cricket fan in Mumbai as India qualify for the cricket World Cup final beating New Zealand.…</td>\n",
       "      <td>VIDEO | \"We knew India would register victory New Zealand today's match. Even final World Cup match, expect similar winning performance Team India,\" says cricket fan Mumbai India qualify cricket World Cup final beating New Zealand.…</td>\n",
       "      <td>0.128788</td>\n",
       "      <td>0.676515</td>\n",
       "      <td>positive</td>\n",
       "    </tr>\n",
       "    <tr>\n",
       "      <th>2</th>\n",
       "      <td>Is Modi ji coming to watch this match ? Has the current PM ever attended a India Hockey / Football match ?? His involvement can help promote these sports. Cricket is big in India and everyone including film stars  and politicians milk it well . #CWC23Final #INDQAT #FIFAWCQ2026</td>\n",
       "      <td>Is Modi ji coming watch match ? Has current PM ever attended India Hockey / Football match ?? His involvement help promote sports. Cricket big India everyone including film stars politicians milk well .</td>\n",
       "      <td>0.000000</td>\n",
       "      <td>0.250000</td>\n",
       "      <td>neutral</td>\n",
       "    </tr>\n",
       "    <tr>\n",
       "      <th>3</th>\n",
       "      <td>Mohammed Shami once said “I will rather die than betray my country” \\n India into finals \\nTeam Man Shami  of Indian cricket Team\\n\\nMan of the match (POTM) acc to me\\n\\n#INDvsNZ #IndiaVsNewZealand</td>\n",
       "      <td>Mohammed Shami said “I rather die betray country” India finals Team Man Shami Indian cricket Team Man match (POTM) acc</td>\n",
       "      <td>0.000000</td>\n",
       "      <td>0.000000</td>\n",
       "      <td>neutral</td>\n",
       "    </tr>\n",
       "    <tr>\n",
       "      <th>4</th>\n",
       "      <td>Team India arrives in Ahmedabad for a historic match in the world's biggest cricket stadium!  \\n\\nWatch as our stars get ready for their hard-earned final match against Australia! \\n\\nTune-in to the Final #INDvAUS\\nSUN, NOV 19, 12 PM | Star Sports Network\\n#WorldCupOnStar #CWC23</td>\n",
       "      <td>Team India arrives Ahmedabad historic match world's biggest cricket stadium! Watch stars get ready hard-earned final match Australia! Tune-in Final , NOV 19, 12 PM | Star Sports Network</td>\n",
       "      <td>0.050000</td>\n",
       "      <td>0.625000</td>\n",
       "      <td>positive</td>\n",
       "    </tr>\n",
       "  </tbody>\n",
       "</table>\n",
       "</div>"
      ],
      "text/plain": [
       "                                                                                                                                                                                                                                                                                      tweets  \\\n",
       "0                                                                                                    Cricket fans! #India & #Netherlands ke beech kaun jeetag aaj ka match! Predict karo! Only on Nissan’s Cricket Ka Blockbuster 2023! \\n@Nissan_India\\n \\n\\n#CKB #CKB2023 #Nissan #cricket   \n",
       "1  VIDEO | \"We knew India would register a victory against New Zealand in today's match. Even in the final of World Cup match, we expect a similar winning performance from Team India,\" says a cricket fan in Mumbai as India qualify for the cricket World Cup final beating New Zealand.…   \n",
       "2      Is Modi ji coming to watch this match ? Has the current PM ever attended a India Hockey / Football match ?? His involvement can help promote these sports. Cricket is big in India and everyone including film stars  and politicians milk it well . #CWC23Final #INDQAT #FIFAWCQ2026   \n",
       "3                                                                                      Mohammed Shami once said “I will rather die than betray my country” \\n India into finals \\nTeam Man Shami  of Indian cricket Team\\n\\nMan of the match (POTM) acc to me\\n\\n#INDvsNZ #IndiaVsNewZealand   \n",
       "4    Team India arrives in Ahmedabad for a historic match in the world's biggest cricket stadium!  \\n\\nWatch as our stars get ready for their hard-earned final match against Australia! \\n\\nTune-in to the Final #INDvAUS\\nSUN, NOV 19, 12 PM | Star Sports Network\\n#WorldCupOnStar #CWC23   \n",
       "\n",
       "                                                                                                                                                                                                                              cleanedTweets  \\\n",
       "0                                                                                                                                                         Cricket fans! & ! Predict karo! Only Nissan’s Cricket Ka Blockbuster 2023! _India   \n",
       "1  VIDEO | \"We knew India would register victory New Zealand today's match. Even final World Cup match, expect similar winning performance Team India,\" says cricket fan Mumbai India qualify cricket World Cup final beating New Zealand.…   \n",
       "2                                Is Modi ji coming watch match ? Has current PM ever attended India Hockey / Football match ?? His involvement help promote sports. Cricket big India everyone including film stars politicians milk well .   \n",
       "3                                                                                                                    Mohammed Shami said “I rather die betray country” India finals Team Man Shami Indian cricket Team Man match (POTM) acc   \n",
       "4                                                 Team India arrives Ahmedabad historic match world's biggest cricket stadium! Watch stars get ready hard-earned final match Australia! Tune-in Final , NOV 19, 12 PM | Star Sports Network   \n",
       "\n",
       "   tPolarity  tSubjectivity segmentation  \n",
       "0   0.000000       1.000000      neutral  \n",
       "1   0.128788       0.676515     positive  \n",
       "2   0.000000       0.250000      neutral  \n",
       "3   0.000000       0.000000      neutral  \n",
       "4   0.050000       0.625000     positive  "
      ]
     },
     "execution_count": 18,
     "metadata": {},
     "output_type": "execute_result"
    }
   ],
   "source": [
    "df['cleanedTweets'] = df['tweets'].apply(TweetCleaning)\n",
    "df['tPolarity'] = df['cleanedTweets'].apply(calPolarity)\n",
    "df['tSubjectivity'] = df['cleanedTweets'].apply(calSubjectivity)\n",
    "df['segmentation'] = df['tPolarity'].apply(segmentation)\n",
    "df.head()"
   ]
  },
  {
   "cell_type": "code",
   "execution_count": 19,
   "id": "a861faf7",
   "metadata": {},
   "outputs": [
    {
     "data": {
      "text/html": [
       "<div>\n",
       "<style scoped>\n",
       "    .dataframe tbody tr th:only-of-type {\n",
       "        vertical-align: middle;\n",
       "    }\n",
       "\n",
       "    .dataframe tbody tr th {\n",
       "        vertical-align: top;\n",
       "    }\n",
       "\n",
       "    .dataframe thead th {\n",
       "        text-align: right;\n",
       "    }\n",
       "</style>\n",
       "<table border=\"1\" class=\"dataframe\">\n",
       "  <thead>\n",
       "    <tr style=\"text-align: right;\">\n",
       "      <th></th>\n",
       "      <th>segmentation</th>\n",
       "    </tr>\n",
       "    <tr>\n",
       "      <th>segmentation</th>\n",
       "      <th></th>\n",
       "    </tr>\n",
       "  </thead>\n",
       "  <tbody>\n",
       "    <tr>\n",
       "      <th>negative</th>\n",
       "      <td>3</td>\n",
       "    </tr>\n",
       "    <tr>\n",
       "      <th>neutral</th>\n",
       "      <td>22</td>\n",
       "    </tr>\n",
       "    <tr>\n",
       "      <th>positive</th>\n",
       "      <td>27</td>\n",
       "    </tr>\n",
       "  </tbody>\n",
       "</table>\n",
       "</div>"
      ],
      "text/plain": [
       "              segmentation\n",
       "segmentation              \n",
       "negative                 3\n",
       "neutral                 22\n",
       "positive                27"
      ]
     },
     "execution_count": 19,
     "metadata": {},
     "output_type": "execute_result"
    }
   ],
   "source": [
    "# Analysis and Visualization\n",
    "\n",
    "df.pivot_table(index=['segmentation'],aggfunc={'segmentation':'count'})"
   ]
  },
  {
   "cell_type": "code",
   "execution_count": 20,
   "id": "83c36c44",
   "metadata": {},
   "outputs": [
    {
     "data": {
      "text/html": [
       "<div>\n",
       "<style scoped>\n",
       "    .dataframe tbody tr th:only-of-type {\n",
       "        vertical-align: middle;\n",
       "    }\n",
       "\n",
       "    .dataframe tbody tr th {\n",
       "        vertical-align: top;\n",
       "    }\n",
       "\n",
       "    .dataframe thead th {\n",
       "        text-align: right;\n",
       "    }\n",
       "</style>\n",
       "<table border=\"1\" class=\"dataframe\">\n",
       "  <thead>\n",
       "    <tr style=\"text-align: right;\">\n",
       "      <th></th>\n",
       "      <th>tweets</th>\n",
       "      <th>cleanedTweets</th>\n",
       "      <th>tPolarity</th>\n",
       "      <th>tSubjectivity</th>\n",
       "      <th>segmentation</th>\n",
       "    </tr>\n",
       "  </thead>\n",
       "  <tbody>\n",
       "    <tr>\n",
       "      <th>51</th>\n",
       "      <td>Kohli has not just been the face of cricket but also India, Rohit's biggest achievement is being compared to this great man. While he doesn't even match kohli's shoe dust legacy! \\n\\n\"LEADER KOHLI CARRYING INDIA\"</td>\n",
       "      <td>Kohli face cricket also India, Rohit's biggest achievement compared great man. While even match kohli's shoe dust legacy! \"LEADER KOHLI CARRYING INDIA\"</td>\n",
       "      <td>1.00</td>\n",
       "      <td>0.75</td>\n",
       "      <td>positive</td>\n",
       "    </tr>\n",
       "    <tr>\n",
       "      <th>24</th>\n",
       "      <td>Captain #RohitSharma𓃵 with Mumbai Cricket association officals after the match.\\n\\n- A beautiful picture. #INDvsNZ</td>\n",
       "      <td>Captain 𓃵 Mumbai Cricket association officals match. - A beautiful picture.</td>\n",
       "      <td>0.85</td>\n",
       "      <td>1.00</td>\n",
       "      <td>positive</td>\n",
       "    </tr>\n",
       "    <tr>\n",
       "      <th>37</th>\n",
       "      <td>There never was Cricket on the day of popular festivals. Boxing Day, not Christmas. Chhoti Diwali, or the day after Diwali, not Diwali.\\n\\nDhandhos are so greedy, they've organised an India Match on Diwali itself. \\n\\nAlso indicates how festivals are now centered around consumption.</td>\n",
       "      <td>There never Cricket day popular festivals. Boxing Day, Christmas. Chhoti Diwali, day Diwali, Diwali. Dhandhos greedy, they've organised India Match Diwali itself. Also indicates festivals centered around consumption.</td>\n",
       "      <td>0.60</td>\n",
       "      <td>0.90</td>\n",
       "      <td>positive</td>\n",
       "    </tr>\n",
       "  </tbody>\n",
       "</table>\n",
       "</div>"
      ],
      "text/plain": [
       "                                                                                                                                                                                                                                                                                         tweets  \\\n",
       "51                                                                         Kohli has not just been the face of cricket but also India, Rohit's biggest achievement is being compared to this great man. While he doesn't even match kohli's shoe dust legacy! \\n\\n\"LEADER KOHLI CARRYING INDIA\"   \n",
       "24                                                                                                                                                                           Captain #RohitSharma𓃵 with Mumbai Cricket association officals after the match.\\n\\n- A beautiful picture. #INDvsNZ   \n",
       "37  There never was Cricket on the day of popular festivals. Boxing Day, not Christmas. Chhoti Diwali, or the day after Diwali, not Diwali.\\n\\nDhandhos are so greedy, they've organised an India Match on Diwali itself. \\n\\nAlso indicates how festivals are now centered around consumption.   \n",
       "\n",
       "                                                                                                                                                                                                               cleanedTweets  \\\n",
       "51                                                                   Kohli face cricket also India, Rohit's biggest achievement compared great man. While even match kohli's shoe dust legacy! \"LEADER KOHLI CARRYING INDIA\"   \n",
       "24                                                                                                                                               Captain 𓃵 Mumbai Cricket association officals match. - A beautiful picture.   \n",
       "37  There never Cricket day popular festivals. Boxing Day, Christmas. Chhoti Diwali, day Diwali, Diwali. Dhandhos greedy, they've organised India Match Diwali itself. Also indicates festivals centered around consumption.   \n",
       "\n",
       "    tPolarity  tSubjectivity segmentation  \n",
       "51       1.00           0.75     positive  \n",
       "24       0.85           1.00     positive  \n",
       "37       0.60           0.90     positive  "
      ]
     },
     "execution_count": 20,
     "metadata": {},
     "output_type": "execute_result"
    }
   ],
   "source": [
    "# top 3 most positive\n",
    "df.sort_values(by=['tPolarity'],ascending=False).head(3)"
   ]
  },
  {
   "cell_type": "code",
   "execution_count": 21,
   "id": "b6e73c0b",
   "metadata": {},
   "outputs": [
    {
     "data": {
      "text/html": [
       "<div>\n",
       "<style scoped>\n",
       "    .dataframe tbody tr th:only-of-type {\n",
       "        vertical-align: middle;\n",
       "    }\n",
       "\n",
       "    .dataframe tbody tr th {\n",
       "        vertical-align: top;\n",
       "    }\n",
       "\n",
       "    .dataframe thead th {\n",
       "        text-align: right;\n",
       "    }\n",
       "</style>\n",
       "<table border=\"1\" class=\"dataframe\">\n",
       "  <thead>\n",
       "    <tr style=\"text-align: right;\">\n",
       "      <th></th>\n",
       "      <th>tweets</th>\n",
       "      <th>cleanedTweets</th>\n",
       "      <th>tPolarity</th>\n",
       "      <th>tSubjectivity</th>\n",
       "      <th>segmentation</th>\n",
       "    </tr>\n",
       "  </thead>\n",
       "  <tbody>\n",
       "    <tr>\n",
       "      <th>28</th>\n",
       "      <td>India is going to face Australia in final match of ICC Cricket World Cup 2023. Ahead of this match, here’s a look at all the past winners\\n\\nWhich teams have won the ODI Cricket World Cup, and when? Find out \\n\\n#ICCCricketWorldCup #INDvsAUS #Cricket</td>\n",
       "      <td>India going face Australia final match ICC Cricket World Cup 2023. Ahead match, here’s look past winners Which teams ODI Cricket World Cup, when? Find</td>\n",
       "      <td>-0.125000</td>\n",
       "      <td>0.625000</td>\n",
       "      <td>negative</td>\n",
       "    </tr>\n",
       "    <tr>\n",
       "      <th>34</th>\n",
       "      <td>Finally the semi-final day is here.\\nDon’t remember the last time I was this tense for a cricket match. Go well Team India</td>\n",
       "      <td>Finally semi-final day here. Don’t remember last time I tense cricket match. Go well Team India</td>\n",
       "      <td>-0.111111</td>\n",
       "      <td>0.522222</td>\n",
       "      <td>negative</td>\n",
       "    </tr>\n",
       "    <tr>\n",
       "      <th>9</th>\n",
       "      <td>#EXCLUSIVE: Salman Khan Starrer YRF’s Spy Universe Film Tiger 3 Drops On 3rd Day Despite Partial Holiday, Collects Less Than Day 1 &amp; Day 2 Numbers!\\n\\nTomorrow’s BIG World Cup India’s cricket match might ensure further drop!\\n\\nhttps://boxofficeworldwide.com/box-office/exclusive-salman-khan-starrer-yrfs-spy-universe-film-tiger-3-drops-on-3rd-day-collects-less-than-day-1-and-day-2-numbers/…\\n\\n#SalmanKhan #KatrinaKaif…</td>\n",
       "      <td>: Salman Khan Starrer YRF’s Spy Universe Film Tiger 3 Drops On 3rd Day Despite Partial Holiday, Collects Less Than Day 1 &amp; Day 2 Numbers! Tomorrow’s BIG World Cup India’s cricket match might ensure drop! https://boxofficeworldwide.com/box-office/exclusive-salman-khan-starrer-yrfs-spy-universe-film-tiger-3-drops-on-3rd-day-collects-less-than-day-1-and-day-2-numbers/… …</td>\n",
       "      <td>-0.077083</td>\n",
       "      <td>0.116667</td>\n",
       "      <td>negative</td>\n",
       "    </tr>\n",
       "  </tbody>\n",
       "</table>\n",
       "</div>"
      ],
      "text/plain": [
       "                                                                                                                                                                                                                                                                                                                                                                                                                                   tweets  \\\n",
       "28                                                                                                                                                                             India is going to face Australia in final match of ICC Cricket World Cup 2023. Ahead of this match, here’s a look at all the past winners\\n\\nWhich teams have won the ODI Cricket World Cup, and when? Find out \\n\\n#ICCCricketWorldCup #INDvsAUS #Cricket   \n",
       "34                                                                                                                                                                                                                                                                                                            Finally the semi-final day is here.\\nDon’t remember the last time I was this tense for a cricket match. Go well Team India    \n",
       "9   #EXCLUSIVE: Salman Khan Starrer YRF’s Spy Universe Film Tiger 3 Drops On 3rd Day Despite Partial Holiday, Collects Less Than Day 1 & Day 2 Numbers!\\n\\nTomorrow’s BIG World Cup India’s cricket match might ensure further drop!\\n\\nhttps://boxofficeworldwide.com/box-office/exclusive-salman-khan-starrer-yrfs-spy-universe-film-tiger-3-drops-on-3rd-day-collects-less-than-day-1-and-day-2-numbers/…\\n\\n#SalmanKhan #KatrinaKaif…   \n",
       "\n",
       "                                                                                                                                                                                                                                                                                                                                                                         cleanedTweets  \\\n",
       "28                                                                                                                                                                                                                              India going face Australia final match ICC Cricket World Cup 2023. Ahead match, here’s look past winners Which teams ODI Cricket World Cup, when? Find   \n",
       "34                                                                                                                                                                                                                                                                                     Finally semi-final day here. Don’t remember last time I tense cricket match. Go well Team India   \n",
       "9   : Salman Khan Starrer YRF’s Spy Universe Film Tiger 3 Drops On 3rd Day Despite Partial Holiday, Collects Less Than Day 1 & Day 2 Numbers! Tomorrow’s BIG World Cup India’s cricket match might ensure drop! https://boxofficeworldwide.com/box-office/exclusive-salman-khan-starrer-yrfs-spy-universe-film-tiger-3-drops-on-3rd-day-collects-less-than-day-1-and-day-2-numbers/… …   \n",
       "\n",
       "    tPolarity  tSubjectivity segmentation  \n",
       "28  -0.125000       0.625000     negative  \n",
       "34  -0.111111       0.522222     negative  \n",
       "9   -0.077083       0.116667     negative  "
      ]
     },
     "execution_count": 21,
     "metadata": {},
     "output_type": "execute_result"
    }
   ],
   "source": [
    "# top 3 most negative\n",
    "df.sort_values(by=['tPolarity'],ascending=True).head(3)"
   ]
  },
  {
   "cell_type": "code",
   "execution_count": 22,
   "id": "d7795f1d",
   "metadata": {},
   "outputs": [
    {
     "data": {
      "text/html": [
       "<div>\n",
       "<style scoped>\n",
       "    .dataframe tbody tr th:only-of-type {\n",
       "        vertical-align: middle;\n",
       "    }\n",
       "\n",
       "    .dataframe tbody tr th {\n",
       "        vertical-align: top;\n",
       "    }\n",
       "\n",
       "    .dataframe thead th {\n",
       "        text-align: right;\n",
       "    }\n",
       "</style>\n",
       "<table border=\"1\" class=\"dataframe\">\n",
       "  <thead>\n",
       "    <tr style=\"text-align: right;\">\n",
       "      <th></th>\n",
       "      <th>tweets</th>\n",
       "      <th>cleanedTweets</th>\n",
       "      <th>tPolarity</th>\n",
       "      <th>tSubjectivity</th>\n",
       "      <th>segmentation</th>\n",
       "    </tr>\n",
       "  </thead>\n",
       "  <tbody>\n",
       "    <tr>\n",
       "      <th>0</th>\n",
       "      <td>Cricket fans! #India &amp; #Netherlands ke beech kaun jeetag aaj ka match! Predict karo! Only on Nissan’s Cricket Ka Blockbuster 2023! \\n@Nissan_India\\n \\n\\n#CKB #CKB2023 #Nissan #cricket</td>\n",
       "      <td>Cricket fans! &amp; ! Predict karo! Only Nissan’s Cricket Ka Blockbuster 2023! _India</td>\n",
       "      <td>0.0</td>\n",
       "      <td>1.00</td>\n",
       "      <td>neutral</td>\n",
       "    </tr>\n",
       "    <tr>\n",
       "      <th>2</th>\n",
       "      <td>Is Modi ji coming to watch this match ? Has the current PM ever attended a India Hockey / Football match ?? His involvement can help promote these sports. Cricket is big in India and everyone including film stars  and politicians milk it well . #CWC23Final #INDQAT #FIFAWCQ2026</td>\n",
       "      <td>Is Modi ji coming watch match ? Has current PM ever attended India Hockey / Football match ?? His involvement help promote sports. Cricket big India everyone including film stars politicians milk well .</td>\n",
       "      <td>0.0</td>\n",
       "      <td>0.25</td>\n",
       "      <td>neutral</td>\n",
       "    </tr>\n",
       "    <tr>\n",
       "      <th>3</th>\n",
       "      <td>Mohammed Shami once said “I will rather die than betray my country” \\n India into finals \\nTeam Man Shami  of Indian cricket Team\\n\\nMan of the match (POTM) acc to me\\n\\n#INDvsNZ #IndiaVsNewZealand</td>\n",
       "      <td>Mohammed Shami said “I rather die betray country” India finals Team Man Shami Indian cricket Team Man match (POTM) acc</td>\n",
       "      <td>0.0</td>\n",
       "      <td>0.00</td>\n",
       "      <td>neutral</td>\n",
       "    </tr>\n",
       "  </tbody>\n",
       "</table>\n",
       "</div>"
      ],
      "text/plain": [
       "                                                                                                                                                                                                                                                                                  tweets  \\\n",
       "0                                                                                                Cricket fans! #India & #Netherlands ke beech kaun jeetag aaj ka match! Predict karo! Only on Nissan’s Cricket Ka Blockbuster 2023! \\n@Nissan_India\\n \\n\\n#CKB #CKB2023 #Nissan #cricket   \n",
       "2  Is Modi ji coming to watch this match ? Has the current PM ever attended a India Hockey / Football match ?? His involvement can help promote these sports. Cricket is big in India and everyone including film stars  and politicians milk it well . #CWC23Final #INDQAT #FIFAWCQ2026   \n",
       "3                                                                                  Mohammed Shami once said “I will rather die than betray my country” \\n India into finals \\nTeam Man Shami  of Indian cricket Team\\n\\nMan of the match (POTM) acc to me\\n\\n#INDvsNZ #IndiaVsNewZealand   \n",
       "\n",
       "                                                                                                                                                                                                cleanedTweets  \\\n",
       "0                                                                                                                           Cricket fans! & ! Predict karo! Only Nissan’s Cricket Ka Blockbuster 2023! _India   \n",
       "2  Is Modi ji coming watch match ? Has current PM ever attended India Hockey / Football match ?? His involvement help promote sports. Cricket big India everyone including film stars politicians milk well .   \n",
       "3                                                                                      Mohammed Shami said “I rather die betray country” India finals Team Man Shami Indian cricket Team Man match (POTM) acc   \n",
       "\n",
       "   tPolarity  tSubjectivity segmentation  \n",
       "0        0.0           1.00      neutral  \n",
       "2        0.0           0.25      neutral  \n",
       "3        0.0           0.00      neutral  "
      ]
     },
     "execution_count": 22,
     "metadata": {},
     "output_type": "execute_result"
    }
   ],
   "source": [
    "# top 3 neutral\n",
    "df[df.tPolarity==0].head(3)"
   ]
  },
  {
   "cell_type": "code",
   "execution_count": 23,
   "id": "d035342e",
   "metadata": {},
   "outputs": [
    {
     "data": {
      "image/png": "[encoded data removed]",
      "text/plain": [
       "<Figure size 432x288 with 1 Axes>"
      ]
     },
     "metadata": {
      "needs_background": "light"
     },
     "output_type": "display_data"
    }
   ],
   "source": [
    "import matplotlib.pyplot as plt\n",
    "\n",
    "consolidated = ' '.join(word for word in df['cleanedTweets'])\n",
    "\n",
    "wordCloud = WordCloud(width=400, height=200, random_state=20, max_font_size=119).generate(consolidated)\n",
    "\n",
    "plt.imshow(wordCloud, interpolation='bilinear')\n",
    "plt.axis('off')\n",
    "plt.show()"
   ]
  },
  {
   "cell_type": "code",
   "execution_count": 24,
   "id": "6b95c37f",
   "metadata": {},
   "outputs": [
    {
     "data": {
      "text/html": [
       "<div>\n",
       "<style scoped>\n",
       "    .dataframe tbody tr th:only-of-type {\n",
       "        vertical-align: middle;\n",
       "    }\n",
       "\n",
       "    .dataframe tbody tr th {\n",
       "        vertical-align: top;\n",
       "    }\n",
       "\n",
       "    .dataframe thead th {\n",
       "        text-align: right;\n",
       "    }\n",
       "</style>\n",
       "<table border=\"1\" class=\"dataframe\">\n",
       "  <thead>\n",
       "    <tr style=\"text-align: right;\">\n",
       "      <th></th>\n",
       "      <th>tweets</th>\n",
       "      <th>cleanedTweets</th>\n",
       "      <th>tPolarity</th>\n",
       "      <th>tSubjectivity</th>\n",
       "    </tr>\n",
       "    <tr>\n",
       "      <th>segmentation</th>\n",
       "      <th></th>\n",
       "      <th></th>\n",
       "      <th></th>\n",
       "      <th></th>\n",
       "    </tr>\n",
       "  </thead>\n",
       "  <tbody>\n",
       "    <tr>\n",
       "      <th>negative</th>\n",
       "      <td>3</td>\n",
       "      <td>3</td>\n",
       "      <td>3</td>\n",
       "      <td>3</td>\n",
       "    </tr>\n",
       "    <tr>\n",
       "      <th>neutral</th>\n",
       "      <td>22</td>\n",
       "      <td>22</td>\n",
       "      <td>22</td>\n",
       "      <td>22</td>\n",
       "    </tr>\n",
       "    <tr>\n",
       "      <th>positive</th>\n",
       "      <td>27</td>\n",
       "      <td>27</td>\n",
       "      <td>27</td>\n",
       "      <td>27</td>\n",
       "    </tr>\n",
       "  </tbody>\n",
       "</table>\n",
       "</div>"
      ],
      "text/plain": [
       "              tweets  cleanedTweets  tPolarity  tSubjectivity\n",
       "segmentation                                                 \n",
       "negative           3              3          3              3\n",
       "neutral           22             22         22             22\n",
       "positive          27             27         27             27"
      ]
     },
     "execution_count": 24,
     "metadata": {},
     "output_type": "execute_result"
    }
   ],
   "source": [
    "import seaborn as sns\n",
    "df.groupby('segmentation').count()"
   ]
  },
  {
   "cell_type": "code",
   "execution_count": 25,
   "id": "a3c5b8b2",
   "metadata": {},
   "outputs": [
    {
     "data": {
      "text/plain": [
       "<AxesSubplot:xlabel='tPolarity', ylabel='tSubjectivity'>"
      ]
     },
     "execution_count": 25,
     "metadata": {},
     "output_type": "execute_result"
    },
    {
     "data": {
      "image/png": "[encoded data removed]",
      "text/plain": [
       "<Figure size 720x360 with 1 Axes>"
      ]
     },
     "metadata": {
      "needs_background": "light"
     },
     "output_type": "display_data"
    }
   ],
   "source": [
    "plt.figure(figsize=(10,5))\n",
    "sns.set_style(\"whitegrid\")\n",
    "sns.scatterplot(data=df, x='tPolarity',y='tSubjectivity',s=100,hue='segmentation')"
   ]
  },
  {
   "cell_type": "code",
   "execution_count": 26,
   "id": "2c311663",
   "metadata": {},
   "outputs": [
    {
     "data": {
      "text/plain": [
       "<AxesSubplot:xlabel='segmentation', ylabel='count'>"
      ]
     },
     "execution_count": 26,
     "metadata": {},
     "output_type": "execute_result"
    },
    {
     "data": {
      "image/png": "[encoded data removed]",
      "text/plain": [
       "<Figure size 432x288 with 1 Axes>"
      ]
     },
     "metadata": {},
     "output_type": "display_data"
    }
   ],
   "source": [
    "sns.countplot(data=df,x='segmentation')"
   ]
  },
  {
   "cell_type": "code",
   "execution_count": 27,
   "id": "ddc5adde",
   "metadata": {},
   "outputs": [
    {
     "data": {
      "text/html": [
       "<div>\n",
       "<style scoped>\n",
       "    .dataframe tbody tr th:only-of-type {\n",
       "        vertical-align: middle;\n",
       "    }\n",
       "\n",
       "    .dataframe tbody tr th {\n",
       "        vertical-align: top;\n",
       "    }\n",
       "\n",
       "    .dataframe thead th {\n",
       "        text-align: right;\n",
       "    }\n",
       "</style>\n",
       "<table border=\"1\" class=\"dataframe\">\n",
       "  <thead>\n",
       "    <tr style=\"text-align: right;\">\n",
       "      <th></th>\n",
       "      <th>resp</th>\n",
       "      <th>pct</th>\n",
       "    </tr>\n",
       "  </thead>\n",
       "  <tbody>\n",
       "    <tr>\n",
       "      <th>0</th>\n",
       "      <td>Supporters</td>\n",
       "      <td>51.9</td>\n",
       "    </tr>\n",
       "    <tr>\n",
       "      <th>1</th>\n",
       "      <td>Opposers</td>\n",
       "      <td>5.8</td>\n",
       "    </tr>\n",
       "    <tr>\n",
       "      <th>2</th>\n",
       "      <td>Neutral</td>\n",
       "      <td>42.3</td>\n",
       "    </tr>\n",
       "  </tbody>\n",
       "</table>\n",
       "</div>"
      ],
      "text/plain": [
       "         resp   pct\n",
       "0  Supporters  51.9\n",
       "1    Opposers   5.8\n",
       "2     Neutral  42.3"
      ]
     },
     "execution_count": 27,
     "metadata": {},
     "output_type": "execute_result"
    }
   ],
   "source": [
    "positive = round(len(df[df.segmentation == 'positive'])/len(df)*100,1)\n",
    "negative = round(len(df[df.segmentation == 'negative'])/len(df)*100,1)\n",
    "neutral = round(len(df[df.segmentation == 'neutral'])/len(df)*100,1)\n",
    "\n",
    "responses = [positive, negative, neutral]\n",
    "responses\n",
    "\n",
    "response = {'resp': ['Supporters', 'Opposers', 'Neutral'], 'pct':[positive, negative, neutral]}\n",
    "pd.DataFrame(response)"
   ]
  },
  {
   "cell_type": "code",
   "execution_count": null,
   "id": "b9f665b3",
   "metadata": {},
   "outputs": [],
   "source": []
  }
 ],
 "metadata": {
  "kernelspec": {
   "display_name": "Python 3",
   "language": "python",
   "name": "python3"
  },
  "language_info": {
   "codemirror_mode": {
    "name": "ipython",
    "version": 3
   },
   "file_extension": ".py",
   "mimetype": "text/x-python",
   "name": "python",
   "nbconvert_exporter": "python",
   "pygments_lexer": "ipython3",
   "version": "3.9.12"
  }
 },
 "nbformat": 4,
 "nbformat_minor": 5
}
